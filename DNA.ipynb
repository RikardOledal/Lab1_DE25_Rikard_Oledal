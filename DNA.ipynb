{
 "cells": [
  {
   "cell_type": "code",
   "execution_count": 21,
   "id": "55606364",
   "metadata": {},
   "outputs": [
    {
     "name": "stdout",
     "output_type": "stream",
     "text": [
      "[{'Name': 'DNA sequence 1', 'a': 17, 't': 7, 'c': 8, 'g': 2}, {'Name': 'DNA sequence 2', 'a': 3, 't': 7, 'c': 4, 'g': 10}, {'Name': 'DNA sequence 3', 'a': 18, 't': 10, 'c': 16, 'g': 16}, {'Name': 'DNA sequence 4', 'a': 13, 't': 10, 'c': 11, 'g': 18}]\n"
     ]
    }
   ],
   "source": [
    "data_path = \"data\"\n",
    "# dna_raw_complicated.txt\n",
    "# dna_raw.txt\n",
    "DNA_file = \"dna_raw.txt\"\n",
    "sequence_list = []\n",
    "sequence_dict = {}\n",
    "sequence_nr = 1\n",
    "\n",
    "path = f\"{data_path}/{DNA_file}\"\n",
    "\n",
    "with open(path, \"r\") as f_read:\n",
    "    for dna_sequence in f_read:\n",
    "        dna_sequence\n",
    "        if dna_sequence[0] == \">\":\n",
    "            sequence_list.append(sequence_dict)\n",
    "            sequence_dict = {\n",
    "                \"Name\": f\"DNA sequence {sequence_nr}\",\n",
    "                \"a\": 0,\n",
    "                \"t\": 0,\n",
    "                \"c\": 0,\n",
    "                \"g\": 0,\n",
    "            }\n",
    "            sequence_nr += 1\n",
    "        else:\n",
    "            dna_sequence = dna_sequence.lower()\n",
    "            sequence_dict[\"a\"] += dna_sequence.count(\"a\")\n",
    "            sequence_dict[\"t\"] += dna_sequence.count(\"t\")\n",
    "            sequence_dict[\"c\"] += dna_sequence.count(\"c\")\n",
    "            sequence_dict[\"g\"] += dna_sequence.count(\"g\")\n",
    "\n",
    "sequence_list.append(sequence_dict)\n",
    "sequence_list.pop(0)\n",
    "print(sequence_list)\n",
    "\n",
    "           \n",
    "\n",
    "\n",
    "\n"
   ]
  },
  {
   "cell_type": "code",
   "execution_count": null,
   "id": "0672f93b",
   "metadata": {},
   "outputs": [],
   "source": []
  }
 ],
 "metadata": {
  "kernelspec": {
   "display_name": "Lab1_DE25_Rikard_Oledal",
   "language": "python",
   "name": "python3"
  },
  "language_info": {
   "codemirror_mode": {
    "name": "ipython",
    "version": 3
   },
   "file_extension": ".py",
   "mimetype": "text/x-python",
   "name": "python",
   "nbconvert_exporter": "python",
   "pygments_lexer": "ipython3",
   "version": "3.12.10"
  }
 },
 "nbformat": 4,
 "nbformat_minor": 5
}
