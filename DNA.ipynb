{
 "cells": [
  {
   "cell_type": "code",
   "execution_count": 3,
   "id": "55606364",
   "metadata": {},
   "outputs": [
    {
     "name": "stdout",
     "output_type": "stream",
     "text": [
      "dna_raw.txt\n",
      "dna_raw_complicated.txt\n",
      "[{'Name': 'DNA sequence 1', 'a': 17, 't': 7, 'c': 8, 'g': 2}, {'Name': 'DNA sequence 2', 'a': 3, 't': 7, 'c': 4, 'g': 10}, {'Name': 'DNA sequence 3', 'a': 36, 't': 19, 'c': 34, 'g': 21}, {'Name': 'DNA sequence 4', 'a': 17, 't': 12, 'c': 15, 'g': 20}]\n"
     ]
    }
   ],
   "source": [
    "# dna_raw_complicated.txt\n",
    "# dna_raw.txt\n",
    "import os\n",
    "\n",
    "data_path = \"data\"\n",
    "sequence_list = []\n",
    "sequence_dict = {}\n",
    "sequence_nr = 1\n",
    "\n",
    "DNA_file = input(\"What is the name of your txt-file ('list' to list your files)\")\n",
    "\n",
    "while True:\n",
    "    if DNA_file == \"list\":\n",
    "        for i in os.listdir(\"data\"):\n",
    "            print(i)\n",
    "        DNA_file = input(\"Enter a correct file or type list to list files\")\n",
    "    elif os.listdir(\"data\").count(f\"{DNA_file}.txt\") == 0:\n",
    "        DNA_file = input(\"Enter a correct file or type list to list files\")\n",
    "    else:\n",
    "        break\n",
    "        \n",
    "path = f\"{data_path}/{DNA_file}.txt\"\n",
    "\n",
    "with open(path, \"r\") as f_read:\n",
    "    for dna_sequence in f_read:\n",
    "        dna_sequence\n",
    "        if dna_sequence[0] == \">\":\n",
    "            sequence_list.append(sequence_dict)\n",
    "            sequence_dict = {\n",
    "                \"Name\": f\"DNA sequence {sequence_nr}\",\n",
    "                \"a\": 0,\n",
    "                \"t\": 0,\n",
    "                \"c\": 0,\n",
    "                \"g\": 0,\n",
    "            }\n",
    "            sequence_nr += 1\n",
    "        else:\n",
    "            dna_sequence = dna_sequence.lower()\n",
    "            sequence_dict[\"a\"] += dna_sequence.count(\"a\")\n",
    "            sequence_dict[\"t\"] += dna_sequence.count(\"t\")\n",
    "            sequence_dict[\"c\"] += dna_sequence.count(\"c\")\n",
    "            sequence_dict[\"g\"] += dna_sequence.count(\"g\")\n",
    "\n",
    "sequence_list.append(sequence_dict)\n",
    "sequence_list.pop(0)\n",
    "print(sequence_list)\n",
    "\n",
    "           \n",
    "\n",
    "\n",
    "\n"
   ]
  },
  {
   "cell_type": "code",
   "execution_count": 26,
   "id": "0672f93b",
   "metadata": {},
   "outputs": [
    {
     "name": "stdout",
     "output_type": "stream",
     "text": [
      "Contains 1 such file\n"
     ]
    }
   ],
   "source": [
    "import os\n",
    "\n",
    "# dna_raw_complicated.txt\n",
    "# dna_raw.txt\n",
    "\n",
    "test = input(\"What is the name of your txt-file (type 'list' to view files)\")\n",
    "\n",
    "if os.listdir(\"data\").count(f\"{test}.txt\") == 0:\n",
    "    print(\"There is no such filename\")\n",
    "else:\n",
    "    print(f\"Contains {os.listdir(\"data\").count(f\"{test}.txt\")} such file\")\n",
    "\n"
   ]
  },
  {
   "cell_type": "code",
   "execution_count": null,
   "id": "53f72f61",
   "metadata": {},
   "outputs": [],
   "source": []
  }
 ],
 "metadata": {
  "kernelspec": {
   "display_name": "Lab1_DE25_Rikard_Oledal",
   "language": "python",
   "name": "python3"
  },
  "language_info": {
   "codemirror_mode": {
    "name": "ipython",
    "version": 3
   },
   "file_extension": ".py",
   "mimetype": "text/x-python",
   "name": "python",
   "nbconvert_exporter": "python",
   "pygments_lexer": "ipython3",
   "version": "3.12.10"
  }
 },
 "nbformat": 4,
 "nbformat_minor": 5
}
