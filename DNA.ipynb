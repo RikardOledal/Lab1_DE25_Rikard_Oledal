{
 "cells": [
  {
   "cell_type": "code",
   "execution_count": 8,
   "id": "55606364",
   "metadata": {},
   "outputs": [
    {
     "data": {
      "text/plain": [
       "[{'Name': 'DNA sequence 1', 'a': 17, 't': 7, 'c': 8, 'g': 2},\n",
       " {'Name': 'DNA sequence 2', 'a': 3, 't': 7, 'c': 4, 'g': 10},\n",
       " {'Name': 'DNA sequence 3', 'a': 36, 't': 19, 'c': 34, 'g': 21},\n",
       " {'Name': 'DNA sequence 4', 'a': 17, 't': 12, 'c': 15, 'g': 20}]"
      ]
     },
     "execution_count": 8,
     "metadata": {},
     "output_type": "execute_result"
    }
   ],
   "source": [
    "# dna_raw_complicated.txt\n",
    "# dna_raw.txt\n",
    "import os\n",
    "\n",
    "def sort_dna(filepath):\n",
    "    sequence_dict = {}\n",
    "    sequence_nr = 1\n",
    "    sequence_list = []\n",
    "    with open(filepath, \"r\") as f_read:\n",
    "        for dna_sequence in f_read:\n",
    "            dna_sequence\n",
    "            if dna_sequence[0] == \">\":\n",
    "                sequence_list.append(sequence_dict)\n",
    "                sequence_dict = {\n",
    "                    \"Name\": f\"DNA sequence {sequence_nr}\",\n",
    "                    \"a\": 0,\n",
    "                    \"t\": 0,\n",
    "                    \"c\": 0,\n",
    "                    \"g\": 0,\n",
    "                }\n",
    "                sequence_nr += 1\n",
    "            else:\n",
    "                dna_sequence = dna_sequence.lower()\n",
    "                sequence_dict[\"a\"] += dna_sequence.count(\"a\")\n",
    "                sequence_dict[\"t\"] += dna_sequence.count(\"t\")\n",
    "                sequence_dict[\"c\"] += dna_sequence.count(\"c\")\n",
    "                sequence_dict[\"g\"] += dna_sequence.count(\"g\")\n",
    "    \n",
    "    sequence_list.append(sequence_dict)\n",
    "    sequence_list.pop(0)\n",
    "\n",
    "    return sequence_list\n",
    "\n",
    "data_path = \"data\"\n",
    "\n",
    "DNA_task = input(\"Run Task 1 och Task 2? (1 / 2)\")\n",
    "choice = 0\n",
    "\n",
    "while choice == 0:\n",
    "    if DNA_task == \"1\":\n",
    "        data_path = \"data/dna_raw.txt\"\n",
    "        choice = 1                        \n",
    "    elif DNA_task == \"2\":\n",
    "        data_path = \"data/dna_raw_complicated.txt\"\n",
    "        choice = 1                    \n",
    "    else:\n",
    "        DNA_task = input(\"Choose 1 or 2? (1 / 2)\")\n",
    "\n",
    "sort_dna(data_path)"
   ]
  },
  {
   "cell_type": "code",
   "execution_count": 26,
   "id": "0672f93b",
   "metadata": {},
   "outputs": [
    {
     "name": "stdout",
     "output_type": "stream",
     "text": [
      "Contains 1 such file\n"
     ]
    }
   ],
   "source": [
    "import os\n",
    "\n",
    "# dna_raw_complicated.txt\n",
    "# dna_raw.txt\n",
    "\n",
    "test = input(\"What is the name of your txt-file (type 'list' to view files)\")\n",
    "\n",
    "if os.listdir(\"data\").count(f\"{test}.txt\") == 0:\n",
    "    print(\"There is no such filename\")\n",
    "else:\n",
    "    print(f\"Contains {os.listdir(\"data\").count(f\"{test}.txt\")} such file\")\n",
    "\n"
   ]
  },
  {
   "cell_type": "code",
   "execution_count": null,
   "id": "53f72f61",
   "metadata": {},
   "outputs": [],
   "source": []
  }
 ],
 "metadata": {
  "kernelspec": {
   "display_name": "Lab1_DE25_Rikard_Oledal",
   "language": "python",
   "name": "python3"
  },
  "language_info": {
   "codemirror_mode": {
    "name": "ipython",
    "version": 3
   },
   "file_extension": ".py",
   "mimetype": "text/x-python",
   "name": "python",
   "nbconvert_exporter": "python",
   "pygments_lexer": "ipython3",
   "version": "3.12.10"
  }
 },
 "nbformat": 4,
 "nbformat_minor": 5
}
