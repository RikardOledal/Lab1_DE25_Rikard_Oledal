{
 "cells": [
  {
   "cell_type": "markdown",
   "id": "7133475c",
   "metadata": {},
   "source": [
    "# Plan"
   ]
  },
  {
   "cell_type": "markdown",
   "id": "17ccddab",
   "metadata": {},
   "source": [
    "## Uppgift\n",
    "Uppgiften är att ladda in en txt-fil med DNA-sekvenser. Strukturera upp denna så att python kan räkna hur många av varje sort det finns och sen visualisera detta i ett stapeldiagram. Delmoment i detta är att varje DNA-sekvens ska vara strukturerad i en dictinary och varje DNA-sekvens ska bli ett stapel diagram.\n",
    "\n",
    "I VG-uppgiften så ska man ta höjd för att det kan finnas olika många sekvensen och att Python ska känna av detta. Den ska även klara den lite svårare filen dna_raw_complicated.txt"
   ]
  },
  {
   "cell_type": "markdown",
   "id": "0cfd2c51",
   "metadata": {},
   "source": [
    "## Lösningsmetod\n",
    "\n",
    "Jag är sugen på att göra VG uppgiften också så för att inte bygga massa kod i G delen som sen behöver byggas om i VG-delen så kommer jag ta höjd för mer avancerade sekvenser och att det kan vara olika många sekvenser redan i G-delen.\n",
    "\n",
    "Jag har en studiegrupp tillsammans med Anja och Felix. Vi kommer att koda var och en för sig, men när jag är klar kommer jag låta dem kolla igenom min kod för att se om något är otydligt eller se om de hittar några fel. Om jag får hjälp med något ploblem så skriver jag det."
   ]
  },
  {
   "cell_type": "markdown",
   "id": "b13419f2",
   "metadata": {},
   "source": [
    "### Delmoment\n",
    "- Inladdning av filen\n",
    "Tänkte använda With-metoden (09_file_handling) jag skulle även vilja baka in detta i en funktion (11_functions) där man anger vilken fil man vill ladda in (04_input_output) för att sen städa filen (07_strings) och lägga i sekvenserna i ett dictionary (10_dictionary) och sen appenda detta till en lista (06_sequences).\n",
    "- Med vår lista så borde jag kunna skapa en While-loop (05_control_structures) för att printa diagrammen med matplotlib (12_matplotlib)"
   ]
  },
  {
   "cell_type": "markdown",
   "id": "8ba27a63",
   "metadata": {},
   "source": [
    "#### To-do lista\n",
    "1. Testa att ladda in filen.\n",
    "2. Städa filen\n",
    "3. Gör om sekvenserna till dictionarys\n",
    "4. Skapa en funktion som innehåller  ovanstående delar och som återger en lista med ovanstående dictionarys.\n",
    "5. Gör en input-som efterfrågar vilken fil som ska in i funktionen (input-funktionen bör ha lite Errorhandling så att användaren vet om den \n",
    "skrivit fel.)\n",
    "6. Gör en Matplotlib som skapar diagram för varje sekvens."
   ]
  }
 ],
 "metadata": {
  "language_info": {
   "name": "python"
  }
 },
 "nbformat": 4,
 "nbformat_minor": 5
}
